{
 "cells": [
  {
   "cell_type": "code",
   "execution_count": null,
   "id": "c328f026",
   "metadata": {},
   "outputs": [],
   "source": [
    "import numpy as np \n",
    "import pandas as pd \n",
    "import seaborn as sns \n",
    "import matplotlib.pyplot as plt \n",
    "from sklearn.linear_model import LogisticRegression\n",
    "from sklearn.ensemble import RandomForestClassifier,RandomForestRegressor\n",
    "from sklearn.linear_model import LinearRegression\n",
    "from sklearn.model_selection import train_test_split\n",
    "from sklearn.preprocessing import LabelEncoder\n",
    "from sklearn.cluster import k_means \n",
    "from sklearn.metrics import confusion_matrix ,classification_report,mean_absolute_error,mean_squared_error"
   ]
  },
  {
   "cell_type": "code",
   "execution_count": null,
   "id": "98973f7a",
   "metadata": {},
   "outputs": [],
   "source": [
    "df = sns.load_dataset('iris')"
   ]
  },
  {
   "cell_type": "code",
   "execution_count": null,
   "id": "5108f709",
   "metadata": {},
   "outputs": [],
   "source": [
    "df.info()"
   ]
  },
  {
   "cell_type": "markdown",
   "id": "ead52bd9",
   "metadata": {},
   "source": []
  },
  {
   "cell_type": "code",
   "execution_count": null,
   "id": "82c53995",
   "metadata": {},
   "outputs": [],
   "source": [
    "encoder = LabelEncoder()\n",
    "df['sex_encoded'] = encoder.fit_transform(df['sex']) \n",
    "df['smoker_encoded'] = encoder.fit_transform(df['smoker']) \n",
    "df['day_encoded'] = encoder.fit_transform(df['day']) \n",
    "df['time_encoded'] = encoder.fit_transform(df['time']) "
   ]
  },
  {
   "cell_type": "code",
   "execution_count": null,
   "id": "ae656adb",
   "metadata": {},
   "outputs": [],
   "source": [
    "Y = df['species']\n",
    "X = df.drop(columns=['species'])\n",
    "X_train,X_test,Y_train,Y_test = train_test_split(X,Y,test_size=0.2)\n",
    "print(X_train.shape)\n",
    "print(Y_train.shape)"
   ]
  },
  {
   "cell_type": "code",
   "execution_count": null,
   "id": "98e3c545",
   "metadata": {},
   "outputs": [],
   "source": [
    "model = LinearRegression()\n",
    "model_rand = RandomForestClassifier(n_estimators=100)"
   ]
  },
  {
   "cell_type": "code",
   "execution_count": null,
   "id": "0ddd7668",
   "metadata": {},
   "outputs": [],
   "source": [
    "model_rand.fit(X_train,Y_train)\n",
    "# model.fit(X_train,Y_train)"
   ]
  },
  {
   "cell_type": "code",
   "execution_count": null,
   "id": "82bae2b4",
   "metadata": {},
   "outputs": [],
   "source": [
    "preds = model_rand.predict(X_test)"
   ]
  },
  {
   "cell_type": "code",
   "execution_count": null,
   "id": "edb52d17",
   "metadata": {},
   "outputs": [],
   "source": [
    "cmf = confusion_matrix(Y_test,preds)\n",
    "cmf"
   ]
  },
  {
   "cell_type": "code",
   "execution_count": null,
   "id": "4bc43577",
   "metadata": {},
   "outputs": [],
   "source": [
    "print(\"error in data : \",mean_absolute_error(Y_test,preds))"
   ]
  },
  {
   "cell_type": "code",
   "execution_count": null,
   "id": "c5ad7380",
   "metadata": {},
   "outputs": [],
   "source": [
    "plt.figure(figsize=(10,5))\n",
    "sns.heatmap(cmf,annot=True,cmap=\"Set3\")\n",
    "plt.xlabel(\"True\")\n",
    "plt.ylabel(\"preds\")\n",
    "plt.show()\n"
   ]
  },
  {
   "cell_type": "code",
   "execution_count": null,
   "id": "38aad7d1",
   "metadata": {},
   "outputs": [],
   "source": []
  }
 ],
 "metadata": {
  "kernelspec": {
   "display_name": "base",
   "language": "python",
   "name": "python3"
  },
  "language_info": {
   "codemirror_mode": {
    "name": "ipython",
    "version": 3
   },
   "file_extension": ".py",
   "mimetype": "text/x-python",
   "name": "python",
   "nbconvert_exporter": "python",
   "pygments_lexer": "ipython3",
   "version": "3.12.7"
  }
 },
 "nbformat": 4,
 "nbformat_minor": 5
}
