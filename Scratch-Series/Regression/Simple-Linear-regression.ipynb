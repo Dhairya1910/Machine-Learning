{
 "cells": [
  {
   "cell_type": "code",
   "execution_count": 1,
   "id": "f85063e2-1260-4f8b-9fc8-2de596ff4939",
   "metadata": {},
   "outputs": [],
   "source": [
    "import numpy as np \n",
    "import pandas as pd \n",
    "from sklearn.datasets import load_iris\n",
    "import seaborn as sns\n",
    "import matplotlib.pyplot as plt \n",
    "from sklearn.model_selection import train_test_split"
   ]
  },
  {
   "cell_type": "code",
   "execution_count": 2,
   "id": "55328b9e-f6b2-41c6-9ffc-d3eee1d29c5c",
   "metadata": {},
   "outputs": [
    {
     "name": "stdout",
     "output_type": "stream",
     "text": [
      "<class 'pandas.core.frame.DataFrame'>\n",
      "RangeIndex: 244 entries, 0 to 243\n",
      "Data columns (total 7 columns):\n",
      " #   Column      Non-Null Count  Dtype   \n",
      "---  ------      --------------  -----   \n",
      " 0   total_bill  244 non-null    float64 \n",
      " 1   tip         244 non-null    float64 \n",
      " 2   sex         244 non-null    category\n",
      " 3   smoker      244 non-null    category\n",
      " 4   day         244 non-null    category\n",
      " 5   time        244 non-null    category\n",
      " 6   size        244 non-null    int64   \n",
      "dtypes: category(4), float64(2), int64(1)\n",
      "memory usage: 7.4 KB\n"
     ]
    }
   ],
   "source": [
    "df = sns.load_dataset(\"tips\")\n",
    "df.info()"
   ]
  },
  {
   "cell_type": "markdown",
   "id": "e91e3c75",
   "metadata": {},
   "source": [
    "Linear regression using least square method"
   ]
  },
  {
   "cell_type": "code",
   "execution_count": null,
   "id": "59ba492f-71fb-4ef5-988f-c9fbd82b32ef",
   "metadata": {},
   "outputs": [],
   "source": [
    "class Linear_regression:\n",
    "    def __init__(self,method):\n",
    "        self.weight = 0 \n",
    "        self.bias = 0\n",
    "        self.method = method \n",
    "\n",
    "    def least_squared(self,x,y):\n",
    "        x_mean = np.mean(x)\n",
    "        y_mean = np.mean(y)\n",
    "        self.weight = np.sum((x-x_mean)*(y-y_mean)) / np.sum(np.square(x_mean-x))\n",
    "        self.bias = y_mean - self.weight * x_mean  \n",
    "\n",
    "    def Gradient_decent(self,x,y,count=25,learning_rate=0.00001,min_error=0.00001):\n",
    "\n",
    "        # 1. initial all slope and intercept values \n",
    "        self.weight = 0 \n",
    "        self.bias = 0 \n",
    "        n = len(x)\n",
    "        i = 0 \n",
    "        prev_mse = np.inf \n",
    "        x = np.array(x)\n",
    "        y = np.array(y)\n",
    "        # 2. function to fit and calculate model\n",
    "        def fit_cal_model(x,y):\n",
    "            y_preds = self.weight + x * self.bias \n",
    "            mse = (1/n) * np.sum(np.square(y-y_preds))\n",
    "            return mse \n",
    "        \n",
    "        mse = fit_cal_model(x,y)\n",
    "        # 3. compute and configure values of bias and slope \n",
    "        while  abs(mse - prev_mse) > min_error:\n",
    "            prev_mse = mse \n",
    "            y_preds = self.weight * x + self.bias\n",
    "            temp_weight = -(2/n) * (x * np.sum(y-y_preds))\n",
    "            temp_bias = -(2/n) * np.sum(y-y_preds)\n",
    "\n",
    "            # 4. update old parameters\n",
    "            self.weight = self.weight - learning_rate * temp_weight \n",
    "            self.bias = self.bias - learning_rate * temp_bias              \n",
    "            mse = fit_cal_model(x,y)\n",
    "            # print(f\"error in model {i}th iteration: {mse}\")\n",
    "            i = i + 1 \n",
    "        return mse \n",
    "        \n",
    "    def fit(self,x,y):\n",
    "        x = np.array(x).reshape(-1,1)\n",
    "        y = np.array(y)\n",
    "        print(y.shape)\n",
    "        if self.method == 'Least_squared':\n",
    "            self.least_squared(x,y)\n",
    "        else: \n",
    "            self.Gradient_decent(x,y)\n",
    "\n",
    "    def predict(self,x):\n",
    "        x = np.array(x).reshape(-1,1)\n",
    "        return self.weight * x + self.bias \n",
    "    \n",
    "    def evaluate(self,x,y):\n",
    "        x = np.array(x).reshape(-1,1)\n",
    "        y = np.array(y)\n",
    "        y_preds = self.predict(x)\n",
    "        mae = np.mean(abs(y_preds-y))\n",
    "        return mae "
   ]
  },
  {
   "cell_type": "code",
   "execution_count": 41,
   "id": "56f9cd18",
   "metadata": {},
   "outputs": [],
   "source": [
    "def train_test_splitter(X,Y,train_ratio=0.75):\n",
    "    X = X.sample(frac=1)\n",
    "    Y = Y.sample(frac=1)\n",
    "    n = X.shape[0]\n",
    "    train_size = int(n * train_ratio)\n",
    "    X_train = X[:train_size]\n",
    "    X_test = X[train_size:]\n",
    "    Y_train = Y[:train_size]\n",
    "    Y_test = Y[train_size:]\n",
    "    return X_train , X_test,Y_train,Y_test "
   ]
  },
  {
   "cell_type": "markdown",
   "id": "e456f681",
   "metadata": {},
   "source": [
    "class Linear_regression_"
   ]
  },
  {
   "cell_type": "code",
   "execution_count": 44,
   "id": "ed0ebf30",
   "metadata": {},
   "outputs": [
    {
     "name": "stdout",
     "output_type": "stream",
     "text": [
      "size of training set : 183\n",
      "size of testing set : 61\n"
     ]
    }
   ],
   "source": [
    "X = df[['total_bill','size']]\n",
    "Y = df['tip']\n",
    "\n",
    "X_train ,X_test ,Y_train , Y_test = train_test_splitter(X,Y,train_ratio=0.75)\n",
    "print(f\"size of training set : {len(X_train)}\")\n",
    "print(f\"size of testing set : {len(Y_test)}\")\n"
   ]
  },
  {
   "cell_type": "code",
   "execution_count": 45,
   "id": "0b0c2a68",
   "metadata": {},
   "outputs": [
    {
     "name": "stdout",
     "output_type": "stream",
     "text": [
      "(183,)\n"
     ]
    },
    {
     "ename": "ValueError",
     "evalue": "operands could not be broadcast together with shapes (366,1) (122,1) ",
     "output_type": "error",
     "traceback": [
      "\u001b[1;31m---------------------------------------------------------------------------\u001b[0m",
      "\u001b[1;31mValueError\u001b[0m                                Traceback (most recent call last)",
      "Cell \u001b[1;32mIn[45], line 3\u001b[0m\n\u001b[0;32m      1\u001b[0m model_gradient_descent \u001b[38;5;241m=\u001b[39m Linear_regression(method\u001b[38;5;241m=\u001b[39m\u001b[38;5;124m'\u001b[39m\u001b[38;5;124mGradient_decent\u001b[39m\u001b[38;5;124m'\u001b[39m)\n\u001b[0;32m      2\u001b[0m model_gradient_descent\u001b[38;5;241m.\u001b[39mfit(X_train,Y_train)\n\u001b[1;32m----> 3\u001b[0m model_gradient_descent\u001b[38;5;241m.\u001b[39mpredict(X_test)\n\u001b[0;32m      4\u001b[0m error \u001b[38;5;241m=\u001b[39m model_gradient_descent\u001b[38;5;241m.\u001b[39mevaluate(X_test,Y_test)\n\u001b[0;32m      5\u001b[0m \u001b[38;5;28mprint\u001b[39m(\u001b[38;5;124m\"\u001b[39m\u001b[38;5;124merror using gradient descent model  = \u001b[39m\u001b[38;5;124m\"\u001b[39m,error)\n",
      "Cell \u001b[1;32mIn[43], line 56\u001b[0m, in \u001b[0;36mLinear_regression.predict\u001b[1;34m(self, x)\u001b[0m\n\u001b[0;32m     54\u001b[0m \u001b[38;5;28;01mdef\u001b[39;00m \u001b[38;5;21mpredict\u001b[39m(\u001b[38;5;28mself\u001b[39m,x):\n\u001b[0;32m     55\u001b[0m     x \u001b[38;5;241m=\u001b[39m np\u001b[38;5;241m.\u001b[39marray(x)\u001b[38;5;241m.\u001b[39mreshape(\u001b[38;5;241m-\u001b[39m\u001b[38;5;241m1\u001b[39m,\u001b[38;5;241m1\u001b[39m)\n\u001b[1;32m---> 56\u001b[0m     \u001b[38;5;28;01mreturn\u001b[39;00m \u001b[38;5;28mself\u001b[39m\u001b[38;5;241m.\u001b[39mweight \u001b[38;5;241m*\u001b[39m x \u001b[38;5;241m+\u001b[39m \u001b[38;5;28mself\u001b[39m\u001b[38;5;241m.\u001b[39mbias\n",
      "\u001b[1;31mValueError\u001b[0m: operands could not be broadcast together with shapes (366,1) (122,1) "
     ]
    }
   ],
   "source": [
    "model_gradient_descent = Linear_regression(method='Gradient_decent')\n",
    "model_gradient_descent.fit(X_train,Y_train)\n",
    "model_gradient_descent.predict(X_test)\n",
    "error = model_gradient_descent.evaluate(X_test,Y_test)\n",
    "print(\"error using gradient descent model  = \",error)"
   ]
  },
  {
   "cell_type": "code",
   "execution_count": 104,
   "id": "2bc4db76",
   "metadata": {},
   "outputs": [
    {
     "name": "stdout",
     "output_type": "stream",
     "text": [
      "error using least square model 0.9628988623129985\n"
     ]
    }
   ],
   "source": [
    "model_Least_square = Linear_regression(method='Least_squared')\n",
    "model_Least_square.fit(X_train,Y_train)\n",
    "model_Least_square.predict(X_test)\n",
    "error = model_Least_square.evaluate(X_test,Y_test)\n",
    "print(\"error using least square model\",error)"
   ]
  }
 ],
 "metadata": {
  "kernelspec": {
   "display_name": "base",
   "language": "python",
   "name": "python3"
  },
  "language_info": {
   "codemirror_mode": {
    "name": "ipython",
    "version": 3
   },
   "file_extension": ".py",
   "mimetype": "text/x-python",
   "name": "python",
   "nbconvert_exporter": "python",
   "pygments_lexer": "ipython3",
   "version": "3.12.7"
  }
 },
 "nbformat": 4,
 "nbformat_minor": 5
}
